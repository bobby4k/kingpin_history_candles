{
 "cells": [
  {
   "cell_type": "code",
   "execution_count": 2,
   "metadata": {},
   "outputs": [
    {
     "name": "stdout",
     "output_type": "stream",
     "text": [
      "{'host': 'localhost', 'influxdb_port': '9009', 'postgres_port': '8812', 'health_port': '9003'}\n"
     ]
    }
   ],
   "source": [
    "import time#\n",
    "from pprint import pprint#\n",
    "\n",
    "import dotenv#\n",
    "from pathlib import Path#\n",
    "import os#\n",
    "dotenv.load_dotenv(verbose=True)\n",
    "\n",
    "questdb_config = {\n",
    "    \"host\" : os.getenv('questdb_host'),\n",
    "    \"influxdb_port\" : os.getenv('questdb_influxdb_port'),\n",
    "    \"postgres_port\" : os.getenv('questdb_postgres_port'),\n",
    "    \"health_port\" :   os.getenv('questdb_health_port'),\n",
    "}\n",
    "\n",
    "print(questdb_config)\n",
    "\n"
   ]
  },
  {
   "cell_type": "code",
   "execution_count": 3,
   "metadata": {},
   "outputs": [
    {
     "name": "stdout",
     "output_type": "stream",
     "text": [
      "Status: Healthy\n"
     ]
    }
   ],
   "source": [
    "#check alive\n",
    "import urllib.request as urlreq#\n",
    "# import urllib3.request as urlreq#\n",
    "health_url = f\"http://{questdb_config['host']}:{questdb_config['health_port']}/status\"\n",
    "f = urlreq.urlopen(health_url)\n",
    "if f.read().decode().index('Healthy') > 0:\n",
    "    print(\"Status: Healthy\")\n"
   ]
  },
  {
   "cell_type": "code",
   "execution_count": 6,
   "metadata": {},
   "outputs": [
    {
     "name": "stdout",
     "output_type": "stream",
     "text": [
      "2021-08-31 16:01:00\n"
     ]
    }
   ],
   "source": [
    "#questdb write with influxdb line protocol\n",
    "from questdb.ingress import Sender, IngressError\n",
    "import sys\n",
    "import datetime\n",
    "\n",
    "table_name = 'candles_btc-usdt'\n",
    "datas = [\n",
    "    [1630425660000, 48772.2, 48801.4, 48714.6, 48735.5, 1009.0],\n",
    "]\n",
    "\n",
    "try:\n",
    "    with Sender(questdb_config['host'], questdb_config['influxdb_port']) as sender:\n",
    "        # Record with provided designated timestamp (using the 'at' param)\n",
    "        # Notice the designated timestamp is expected in Nanoseconds,\n",
    "        # but timestamps in other columns are expected in Microseconds. \n",
    "        # The API provides convenient functions\n",
    "        for row in datas:\n",
    "            \n",
    "            ts = datetime.datetime.utcfromtimestamp(row[0]/1000);\n",
    "            print(ts)\n",
    "            sender.row(\n",
    "                table_name,\n",
    "                columns={\n",
    "                    # 'timestamp': row[0]*1000,\n",
    "                    # 'timestamp': ts,\n",
    "                    'open':row[1],\n",
    "                    'high':row[2],\n",
    "                    'low':row[3],\n",
    "                    'close':row[4],\n",
    "                    'volume':row[5],\n",
    "                },\n",
    "            # at=datetime.datetime.utcnow())\n",
    "                at=ts\n",
    "            )\n",
    "        #END for\n",
    "\n",
    "        # We recommend flushing periodically, for example every few seconds.\n",
    "        # If you don't flush explicitly, the client will flush automatically\n",
    "        # once the buffer is reaches 63KiB and just before the connection\n",
    "        # is closed.\n",
    "        sender.flush()\n",
    "\n",
    "except IngressError as e:\n",
    "    sys.stderr.write(f'Got error: {e}\\n')\n",
    "\n",
    "\n",
    "\n",
    "\n",
    "\n"
   ]
  }
 ],
 "metadata": {
  "kernelspec": {
   "display_name": "Python 3.10.4 ('kp_turtle')",
   "language": "python",
   "name": "python3"
  },
  "language_info": {
   "codemirror_mode": {
    "name": "ipython",
    "version": 3
   },
   "file_extension": ".py",
   "mimetype": "text/x-python",
   "name": "python",
   "nbconvert_exporter": "python",
   "pygments_lexer": "ipython3",
   "version": "3.10.4"
  },
  "orig_nbformat": 4,
  "vscode": {
   "interpreter": {
    "hash": "20213dc15fea3628fa2c93395c4ef66ab3653aa70f390b93b8d65320d7cb4c47"
   }
  }
 },
 "nbformat": 4,
 "nbformat_minor": 2
}
