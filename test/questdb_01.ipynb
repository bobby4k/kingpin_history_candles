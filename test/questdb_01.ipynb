{
 "cells": [
  {
   "cell_type": "code",
   "execution_count": 2,
   "metadata": {},
   "outputs": [
    {
     "name": "stdout",
     "output_type": "stream",
     "text": [
      "{'host': 'localhost', 'influxdb_port': '9009', 'postgres_port': '8812', 'health_port': '9003'}\n"
     ]
    }
   ],
   "source": [
    "import time#\n",
    "from pprint import pprint#\n",
    "\n",
    "import dotenv#\n",
    "from pathlib import Path#\n",
    "import os#\n",
    "dotenv.load_dotenv(verbose=True)\n",
    "\n",
    "questdb_config = {\n",
    "    \"host\" : os.getenv('questdb_host'),\n",
    "    \"influxdb_port\" : os.getenv('questdb_influxdb_port'),\n",
    "    \"postgres_port\" : os.getenv('questdb_postgres_port'),\n",
    "    \"health_port\" :   os.getenv('questdb_health_port'),\n",
    "}\n",
    "\n",
    "print(questdb_config)\n",
    "\n"
   ]
  },
  {
   "cell_type": "code",
   "execution_count": 9,
   "metadata": {},
   "outputs": [
    {
     "name": "stdout",
     "output_type": "stream",
     "text": [
      "Status: Healthy\n"
     ]
    }
   ],
   "source": [
    "#check alive\n",
    "import urllib.request as urlreq#\n",
    "# import urllib3.request as urlreq#\n",
    "health_url = f\"http://{questdb_config['host']}:{questdb_config['health_port']}/status\"\n",
    "f = urlreq.urlopen(health_url)\n",
    "if f.read().decode().index('Healthy') > 0:\n",
    "    print(\"Status: Healthy\")\n"
   ]
  },
  {
   "cell_type": "code",
   "execution_count": null,
   "metadata": {},
   "outputs": [],
   "source": [
    "#questdb write with influxdb line protocol\n",
    "\n",
    "\n",
    "\n",
    "\n"
   ]
  }
 ],
 "metadata": {
  "kernelspec": {
   "display_name": "Python 3.10.4 ('kp_turtle')",
   "language": "python",
   "name": "python3"
  },
  "language_info": {
   "codemirror_mode": {
    "name": "ipython",
    "version": 3
   },
   "file_extension": ".py",
   "mimetype": "text/x-python",
   "name": "python",
   "nbconvert_exporter": "python",
   "pygments_lexer": "ipython3",
   "version": "3.10.4"
  },
  "orig_nbformat": 4,
  "vscode": {
   "interpreter": {
    "hash": "20213dc15fea3628fa2c93395c4ef66ab3653aa70f390b93b8d65320d7cb4c47"
   }
  }
 },
 "nbformat": 4,
 "nbformat_minor": 2
}
