{
 "cells": [
  {
   "cell_type": "code",
   "execution_count": 1,
   "metadata": {},
   "outputs": [
    {
     "data": {
      "text/html": [
       "<div>\n",
       "<style scoped>\n",
       "    .dataframe tbody tr th:only-of-type {\n",
       "        vertical-align: middle;\n",
       "    }\n",
       "\n",
       "    .dataframe tbody tr th {\n",
       "        vertical-align: top;\n",
       "    }\n",
       "\n",
       "    .dataframe thead th {\n",
       "        text-align: right;\n",
       "    }\n",
       "</style>\n",
       "<table border=\"1\" class=\"dataframe\">\n",
       "  <thead>\n",
       "    <tr style=\"text-align: right;\">\n",
       "      <th></th>\n",
       "      <th>egg</th>\n",
       "      <th>pig</th>\n",
       "    </tr>\n",
       "  </thead>\n",
       "  <tbody>\n",
       "    <tr>\n",
       "      <th>0</th>\n",
       "      <td>1</td>\n",
       "      <td>2</td>\n",
       "    </tr>\n",
       "  </tbody>\n",
       "</table>\n",
       "</div>"
      ],
      "text/plain": [
       "   egg  pig\n",
       "0    1    2"
      ]
     },
     "execution_count": 1,
     "metadata": {},
     "output_type": "execute_result"
    }
   ],
   "source": [
    "import csv\n",
    "import os.path\n",
    "import pandas as pd#\n",
    "\n",
    "path = 'test.csv'\n",
    "is_file_exist = os.path.isfile(path)\n",
    "\n",
    "with open(path,'a+', newline='') as f:\n",
    "    #newline 解决空行问题\n",
    "    csv_write = csv.writer(f)\n",
    "    \n",
    "    if is_file_exist==False:\n",
    "        data_row = ['egg','pig']\n",
    "        csv_write.writerow(data_row)\n",
    "    \n",
    "    data_row = [\"1\",\"2\"]\n",
    "    csv_write.writerow(data_row)\n",
    "        \n",
    "\n",
    "df = pd.read_csv(path)\n",
    "df.head()\n",
    "\n",
    "\n"
   ]
  }
 ],
 "metadata": {
  "kernelspec": {
   "display_name": "Python 3.10.4 ('kp_turtle')",
   "language": "python",
   "name": "python3"
  },
  "language_info": {
   "codemirror_mode": {
    "name": "ipython",
    "version": 3
   },
   "file_extension": ".py",
   "mimetype": "text/x-python",
   "name": "python",
   "nbconvert_exporter": "python",
   "pygments_lexer": "ipython3",
   "version": "3.10.4"
  },
  "orig_nbformat": 4,
  "vscode": {
   "interpreter": {
    "hash": "20213dc15fea3628fa2c93395c4ef66ab3653aa70f390b93b8d65320d7cb4c47"
   }
  }
 },
 "nbformat": 4,
 "nbformat_minor": 2
}
