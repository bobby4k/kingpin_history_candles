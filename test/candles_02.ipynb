{
 "cells": [
  {
   "cell_type": "code",
   "execution_count": 4,
   "metadata": {},
   "outputs": [
    {
     "name": "stdout",
     "output_type": "stream",
     "text": [
      "1.93.69\n",
      "2022-09-22 05:16:27.817000 2022-09-22 05:16:40.173065 -12.356\n"
     ]
    }
   ],
   "source": [
    "from pprint import pprint#\n",
    "import ccxt\n",
    "print(ccxt.__version__)\n",
    "\n",
    "import dotenv#\n",
    "from pathlib import Path#\n",
    "import os#\n",
    "dotenv.load_dotenv(verbose=True)\n",
    "\n",
    "# from variable id\n",
    "exchange = ccxt.okx({\n",
    "    \"apiKey\" : os.getenv('okx_ro_apikey'),\n",
    "    \"secret\" : os.getenv('okx_ro_secret'),\n",
    "    \"password\" : os.getenv('okx_ro_password'),\n",
    "    'timeout': 3000, #1s=1000\n",
    "    #rateLimit = 2000, # milliseconds = seconds * 1000\n",
    "    'enableRateLimit': True,\n",
    "})\n",
    "\n",
    "#时间对比\n",
    "import time#\n",
    "from datetime import datetime#\n",
    "ftime = exchange.fetchTime()\n",
    "now = time.time()\n",
    "cmptime = ftime-int(now*1000)\n",
    "\n",
    "fdate = datetime.utcfromtimestamp(ftime/1000)\n",
    "ndate = datetime.utcfromtimestamp(now)\n",
    "print(fdate,ndate, cmptime/1000)\n",
    "\n",
    "\n",
    "\n",
    "\n"
   ]
  },
  {
   "cell_type": "code",
   "execution_count": 5,
   "metadata": {},
   "outputs": [
    {
     "name": "stdout",
     "output_type": "stream",
     "text": [
      "1300\n",
      "ETH/USDT:USDT\n",
      "ETH/USDT:USDT-220923\n",
      "ETH/USDT:USDT-220930\n",
      "ETH/USDT:USDT-221230\n",
      "ETH/USDT:USDT-230331\n"
     ]
    }
   ],
   "source": [
    "#拿到 当周、次周、当季、次季合约\n",
    "\n",
    "#所有标的\n",
    "exchange.load_markets()\n",
    "symbols_all = exchange.symbols\n",
    "# pprint(symbols_all)\n",
    "pprint(len(symbols_all))\n",
    "\n",
    "for symbol in symbols_all:\n",
    "    if 'ETH/USDT:' in symbol:\n",
    "        print(symbol)\n",
    "\n"
   ]
  }
 ],
 "metadata": {
  "kernelspec": {
   "display_name": "Python 3.10.4 ('kp_turtle')",
   "language": "python",
   "name": "python3"
  },
  "language_info": {
   "codemirror_mode": {
    "name": "ipython",
    "version": 3
   },
   "file_extension": ".py",
   "mimetype": "text/x-python",
   "name": "python",
   "nbconvert_exporter": "python",
   "pygments_lexer": "ipython3",
   "version": "3.10.4"
  },
  "orig_nbformat": 4,
  "vscode": {
   "interpreter": {
    "hash": "20213dc15fea3628fa2c93395c4ef66ab3653aa70f390b93b8d65320d7cb4c47"
   }
  }
 },
 "nbformat": 4,
 "nbformat_minor": 2
}
