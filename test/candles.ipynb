{
 "cells": [
  {
   "cell_type": "code",
   "execution_count": 2,
   "metadata": {},
   "outputs": [
    {
     "name": "stdout",
     "output_type": "stream",
     "text": [
      "1.93.69\n",
      "-12483\n"
     ]
    }
   ],
   "source": [
    "import time#\n",
    "from pprint import pprint#\n",
    "import ccxt\n",
    "print(ccxt.__version__)\n",
    "\n",
    "import dotenv#\n",
    "from pathlib import Path#\n",
    "import os#\n",
    "dotenv.load_dotenv(verbose=True)\n",
    "\n",
    "# from variable id\n",
    "exchange = ccxt.okx({\n",
    "    \"apiKey\" : os.getenv('okx_ro_apikey'),\n",
    "    \"secret\" : os.getenv('okx_ro_secret'),\n",
    "    \"password\" : os.getenv('okx_ro_password'),\n",
    "    'timeout': 3000, #1s=1000\n",
    "    #rateLimit = 2000, # milliseconds = seconds * 1000\n",
    "    'enableRateLimit': True,\n",
    "})\n",
    "\n",
    "#时间对比\n",
    "ftime = exchange.fetchTime()\n",
    "print(ftime-int(time.time()*1000))"
   ]
  },
  {
   "cell_type": "code",
   "execution_count": 4,
   "metadata": {},
   "outputs": [
    {
     "name": "stdout",
     "output_type": "stream",
     "text": [
      "[1630425660000, 48772.2, 48801.4, 48714.6, 48735.5, 1009.0]\n"
     ]
    }
   ],
   "source": [
    "#candles \n",
    "\n",
    "#标的信息\n",
    "# symbols_list = ['BTC/USDT','ETH/USDT']\n",
    "# tickers = exchange.fetch_tickers(symbols=symbols_list)\n",
    "\n",
    "# pprint(tickers)\n",
    "t = (2021,9,1,0,0,1,0,0,0)\n",
    "since = int(time.mktime(t) * 1000)\n",
    "# symbol = 'BTC/USDT'\n",
    "symbol = 'BTC/USDT:USDT-220930'\n",
    "# time.sleep (exchange.rateLimit / 1000) # time.sleep wants seconds\n",
    "df_list = exchange.fetch_ohlcv (symbol, '1m', since=since)\n",
    "\n",
    "# https://www.okx.com/api/v5/market/history-candles?instId=BTC-USDT&bar=1m&limit=100&\n",
    "# before=1630425600999.0&after=1630431600999.0\n",
    "\n",
    "#api doc 获取最近几年的历史k线数据\n",
    "#   https://www.okx.com/docs-v5/zh/#rest-api-market-data-get-candlesticks-history\n",
    "#   限速： 20次/2s\n",
    "#   time.sleep(0.1)\n",
    "\n",
    "# for bar in df_list:\n",
    "    # print( time.ctime(bar[0]/1000), bar[1] )\n",
    "\n",
    "pprint(df_list[0])\n",
    "\n",
    "\n"
   ]
  }
 ],
 "metadata": {
  "kernelspec": {
   "display_name": "Python 3.10.4 ('kp_turtle')",
   "language": "python",
   "name": "python3"
  },
  "language_info": {
   "codemirror_mode": {
    "name": "ipython",
    "version": 3
   },
   "file_extension": ".py",
   "mimetype": "text/x-python",
   "name": "python",
   "nbconvert_exporter": "python",
   "pygments_lexer": "ipython3",
   "version": "3.10.4"
  },
  "orig_nbformat": 4,
  "vscode": {
   "interpreter": {
    "hash": "20213dc15fea3628fa2c93395c4ef66ab3653aa70f390b93b8d65320d7cb4c47"
   }
  }
 },
 "nbformat": 4,
 "nbformat_minor": 2
}
